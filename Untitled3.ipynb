{
 "cells": [
  {
   "cell_type": "code",
   "execution_count": 6,
   "id": "764da47e-884b-4e04-b47f-b61ce5babd37",
   "metadata": {},
   "outputs": [
    {
     "data": {
      "text/plain": [
       "True"
      ]
     },
     "execution_count": 6,
     "metadata": {},
     "output_type": "execute_result"
    }
   ],
   "source": [
    "maxwidth, maxheight = 400, 500\n",
    "\n",
    "import cv2\n",
    "img = cv2.imread('real_1234.jpg')\n",
    "f1 = maxwidth / img.shape[1]\n",
    "f2 = maxheight / img.shape[0]\n",
    "f = min(f1, f2)  # resizing factor\n",
    "dim = (int(img.shape[1] * f), int(img.shape[0] * f))\n",
    "resized = cv2.resize(img, dim)\n",
    "cv2.imwrite('out.png', resized)"
   ]
  },
  {
   "cell_type": "code",
   "execution_count": null,
   "id": "0b94810a-15d1-44e1-b060-b98057a6fe78",
   "metadata": {},
   "outputs": [],
   "source": []
  }
 ],
 "metadata": {
  "kernelspec": {
   "display_name": "Python 3 (ipykernel)",
   "language": "python",
   "name": "python3"
  },
  "language_info": {
   "codemirror_mode": {
    "name": "ipython",
    "version": 3
   },
   "file_extension": ".py",
   "mimetype": "text/x-python",
   "name": "python",
   "nbconvert_exporter": "python",
   "pygments_lexer": "ipython3",
   "version": "3.9.8"
  }
 },
 "nbformat": 4,
 "nbformat_minor": 5
}

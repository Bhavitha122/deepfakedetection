{
 "cells": [
  {
   "cell_type": "code",
   "execution_count": 8,
   "id": "e90be1f7-33a7-4b0d-a451-1511e17b558c",
   "metadata": {},
   "outputs": [
    {
     "data": {
      "text/plain": [
       "True"
      ]
     },
     "execution_count": 8,
     "metadata": {},
     "output_type": "execute_result"
    }
   ],
   "source": [
    "maxwidth, maxheight = 400, 500\n",
    "\n",
    "import cv2\n",
    "img = cv2.imread('testing.jpg')\n",
    "f1 = maxwidth / img.shape[1]\n",
    "f2 = maxheight / img.shape[0]\n",
    "f = min(f1, f2)  # resizing factor\n",
    "dim = (int(img.shape[1] * f), int(img.shape[0] * f))\n",
    "resized = cv2.resize(img, dim)\n",
    "cv2.imwrite('out.png', resized)"
   ]
  },
  {
   "cell_type": "code",
   "execution_count": null,
   "id": "065ce5f8-e3f2-4b15-9786-5376650ef5bd",
   "metadata": {},
   "outputs": [],
   "source": []
  }
 ],
 "metadata": {
  "kernelspec": {
   "display_name": "Python 3 (ipykernel)",
   "language": "python",
   "name": "python3"
  },
  "language_info": {
   "codemirror_mode": {
    "name": "ipython",
    "version": 3
   },
   "file_extension": ".py",
   "mimetype": "text/x-python",
   "name": "python",
   "nbconvert_exporter": "python",
   "pygments_lexer": "ipython3",
   "version": "3.9.8"
  }
 },
 "nbformat": 4,
 "nbformat_minor": 5
}
